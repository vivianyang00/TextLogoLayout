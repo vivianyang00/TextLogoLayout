{
  "nbformat": 4,
  "nbformat_minor": 0,
  "metadata": {
    "colab": {
      "provenance": [],
      "authorship_tag": "ABX9TyMhDdkfcgmykeO5OoBEkNoP",
      "include_colab_link": true
    },
    "kernelspec": {
      "name": "python3",
      "display_name": "Python 3"
    },
    "language_info": {
      "name": "python"
    }
  },
  "cells": [
    {
      "cell_type": "markdown",
      "metadata": {
        "id": "view-in-github",
        "colab_type": "text"
      },
      "source": [
        "<a href=\"https://colab.research.google.com/github/vivianyang00/TextLogoLayout/blob/main/Untitled1.ipynb\" target=\"_parent\"><img src=\"https://colab.research.google.com/assets/colab-badge.svg\" alt=\"Open In Colab\"/></a>"
      ]
    },
    {
      "cell_type": "code",
      "source": [
        "!git clone https://github.com/vivianyang00/TextLogoLayout.git"
      ],
      "metadata": {
        "colab": {
          "base_uri": "https://localhost:8080/"
        },
        "id": "ZhvJrn4mi05p",
        "outputId": "d2005be4-ad48-4a64-a9c2-4218e5df5015"
      },
      "execution_count": 1,
      "outputs": [
        {
          "output_type": "stream",
          "name": "stdout",
          "text": [
            "Cloning into 'TextLogoLayout'...\n",
            "remote: Enumerating objects: 81, done.\u001b[K\n",
            "remote: Counting objects: 100% (78/78), done.\u001b[K\n",
            "remote: Compressing objects: 100% (57/57), done.\u001b[K\n",
            "remote: Total 81 (delta 21), reused 74 (delta 19), pack-reused 3\u001b[K\n",
            "Receiving objects: 100% (81/81), 3.96 MiB | 25.97 MiB/s, done.\n",
            "Resolving deltas: 100% (21/21), done.\n"
          ]
        }
      ]
    },
    {
      "cell_type": "code",
      "source": [
        "cd /content/TextLogoLayout/dataset"
      ],
      "metadata": {
        "colab": {
          "base_uri": "https://localhost:8080/"
        },
        "id": "DQ02cwEilP47",
        "outputId": "c2728021-4719-4259-91e2-f35e15669ad0"
      },
      "execution_count": 2,
      "outputs": [
        {
          "output_type": "stream",
          "name": "stdout",
          "text": [
            "/content/TextLogoLayout/dataset\n"
          ]
        }
      ]
    },
    {
      "cell_type": "code",
      "source": [
        "pwd\n"
      ],
      "metadata": {
        "colab": {
          "base_uri": "https://localhost:8080/",
          "height": 35
        },
        "id": "7G-7EBZvm0V-",
        "outputId": "15bdf801-d40c-4dbc-a2fd-0e650a291d99"
      },
      "execution_count": 3,
      "outputs": [
        {
          "output_type": "execute_result",
          "data": {
            "text/plain": [
              "'/content/TextLogoLayout/dataset'"
            ],
            "application/vnd.google.colaboratory.intrinsic+json": {
              "type": "string"
            }
          },
          "metadata": {},
          "execution_count": 3
        }
      ]
    },
    {
      "cell_type": "code",
      "source": [
        "ls\n"
      ],
      "metadata": {
        "colab": {
          "base_uri": "https://localhost:8080/"
        },
        "id": "4-qeAcXlm2Sl",
        "outputId": "e8a6d7a7-3cc6-428e-bc84-ebd4ecfc78e9"
      },
      "execution_count": 4,
      "outputs": [
        {
          "output_type": "stream",
          "name": "stdout",
          "text": [
            "\u001b[0m\u001b[01;34mintro\u001b[0m/\n"
          ]
        }
      ]
    },
    {
      "cell_type": "code",
      "source": [
        "!git clone https://github.com/vivianyang00/logo.git"
      ],
      "metadata": {
        "colab": {
          "base_uri": "https://localhost:8080/"
        },
        "id": "nyRKeJvYm-Tw",
        "outputId": "f0269bcc-dcac-4524-8ead-8073a201f02e"
      },
      "execution_count": 5,
      "outputs": [
        {
          "output_type": "stream",
          "name": "stdout",
          "text": [
            "Cloning into 'logo'...\n",
            "remote: Enumerating objects: 38673, done.\u001b[K\n",
            "remote: Counting objects: 100% (3/3), done.\u001b[K\n",
            "remote: Compressing objects: 100% (3/3), done.\u001b[K\n",
            "remote: Total 38673 (delta 0), reused 0 (delta 0), pack-reused 38670\u001b[K\n",
            "Receiving objects: 100% (38673/38673), 845.84 MiB | 32.52 MiB/s, done.\n",
            "Resolving deltas: 100% (14823/14823), done.\n",
            "Updating files: 100% (41644/41644), done.\n"
          ]
        }
      ]
    },
    {
      "cell_type": "code",
      "source": [
        "cd /content/TextLogoLayout"
      ],
      "metadata": {
        "id": "YcIb8SFqq5FL",
        "colab": {
          "base_uri": "https://localhost:8080/"
        },
        "outputId": "25485115-420e-4ecb-b64a-81f178842ac7"
      },
      "execution_count": 7,
      "outputs": [
        {
          "output_type": "stream",
          "name": "stdout",
          "text": [
            "/content/TextLogoLayout\n"
          ]
        }
      ]
    },
    {
      "cell_type": "code",
      "source": [
        "!pip install tensorboardX scikit-image jieba"
      ],
      "metadata": {
        "colab": {
          "base_uri": "https://localhost:8080/"
        },
        "id": "J-PKaxD5lgtp",
        "outputId": "202382b5-9b44-4695-913b-69aaba8aa29c"
      },
      "execution_count": 8,
      "outputs": [
        {
          "output_type": "stream",
          "name": "stdout",
          "text": [
            "Collecting tensorboardX\n",
            "  Downloading tensorboardX-2.6.2.2-py2.py3-none-any.whl (101 kB)\n",
            "\u001b[?25l     \u001b[90m━━━━━━━━━━━━━━━━━━━━━━━━━━━━━━━━━━━━━━━━\u001b[0m \u001b[32m0.0/101.7 kB\u001b[0m \u001b[31m?\u001b[0m eta \u001b[36m-:--:--\u001b[0m\r\u001b[2K     \u001b[90m━━━━━━━━━━━━━━━━━━━━━━━━━━━━━━━━━━━━━━━━\u001b[0m \u001b[32m101.7/101.7 kB\u001b[0m \u001b[31m3.5 MB/s\u001b[0m eta \u001b[36m0:00:00\u001b[0m\n",
            "\u001b[?25hRequirement already satisfied: scikit-image in /usr/local/lib/python3.10/dist-packages (0.19.3)\n",
            "Requirement already satisfied: jieba in /usr/local/lib/python3.10/dist-packages (0.42.1)\n",
            "Requirement already satisfied: numpy in /usr/local/lib/python3.10/dist-packages (from tensorboardX) (1.25.2)\n",
            "Requirement already satisfied: packaging in /usr/local/lib/python3.10/dist-packages (from tensorboardX) (24.0)\n",
            "Requirement already satisfied: protobuf>=3.20 in /usr/local/lib/python3.10/dist-packages (from tensorboardX) (3.20.3)\n",
            "Requirement already satisfied: scipy>=1.4.1 in /usr/local/lib/python3.10/dist-packages (from scikit-image) (1.11.4)\n",
            "Requirement already satisfied: networkx>=2.2 in /usr/local/lib/python3.10/dist-packages (from scikit-image) (3.2.1)\n",
            "Requirement already satisfied: pillow!=7.1.0,!=7.1.1,!=8.3.0,>=6.1.0 in /usr/local/lib/python3.10/dist-packages (from scikit-image) (9.4.0)\n",
            "Requirement already satisfied: imageio>=2.4.1 in /usr/local/lib/python3.10/dist-packages (from scikit-image) (2.31.6)\n",
            "Requirement already satisfied: tifffile>=2019.7.26 in /usr/local/lib/python3.10/dist-packages (from scikit-image) (2024.2.12)\n",
            "Requirement already satisfied: PyWavelets>=1.1.1 in /usr/local/lib/python3.10/dist-packages (from scikit-image) (1.5.0)\n",
            "Installing collected packages: tensorboardX\n",
            "Successfully installed tensorboardX-2.6.2.2\n"
          ]
        }
      ]
    },
    {
      "cell_type": "code",
      "source": [
        "!python train.py --experiment_name base_model"
      ],
      "metadata": {
        "colab": {
          "base_uri": "https://localhost:8080/"
        },
        "id": "_hoxPkjklsKZ",
        "outputId": "67982d50-d519-4786-f5c4-b851b5247698"
      },
      "execution_count": 11,
      "outputs": [
        {
          "output_type": "stream",
          "name": "stdout",
          "text": [
            "Training on experiment base_model...\n",
            "/usr/local/lib/python3.10/dist-packages/torch/utils/data/dataloader.py:558: UserWarning: This DataLoader will create 32 worker processes in total. Our suggested max number of worker in current system is 2, which is smaller than what this DataLoader is going to create. Please be aware that excessive worker creation might get DataLoader running slow or even freeze, lower the worker number to avoid potential slowness/freeze if necessary.\n",
            "  warnings.warn(_create_warning_msg(\n",
            "/usr/local/lib/python3.10/dist-packages/torchvision/models/_utils.py:208: UserWarning: The parameter 'pretrained' is deprecated since 0.13 and may be removed in the future, please use 'weights' instead.\n",
            "  warnings.warn(\n",
            "/usr/local/lib/python3.10/dist-packages/torchvision/models/_utils.py:223: UserWarning: Arguments other than a weight enum or `None` for 'weights' are deprecated since 0.13 and may be removed in the future. The current behavior is equivalent to passing `weights=VGG19_BN_Weights.IMAGENET1K_V1`. You can also use `weights=VGG19_BN_Weights.DEFAULT` to get the most up-to-date weights.\n",
            "  warnings.warn(msg)\n",
            "Downloading: \"https://download.pytorch.org/models/vgg19_bn-c79401a0.pth\" to /root/.cache/torch/hub/checkpoints/vgg19_bn-c79401a0.pth\n",
            "100% 548M/548M [00:03<00:00, 158MB/s]\n",
            "Epoch: 0/800, Batch: 9/99, lossD_fake_seq: 0.694832, lossD_real_seq: 0.688456, lossD_real_img: 0.629212, lossD_fake_img: 0.870824, lossG_fake_seq: 0.693848, lossG_fake_img: 0.677178, lossG_overlap_fake: 0.000000, lossG_overlap_real: 0.001865, \n",
            "Epoch: 0/800, Batch: 19/99, lossD_fake_seq: 0.689572, lossD_real_seq: 0.686905, lossD_real_img: 0.640365, lossD_fake_img: 0.878314, lossG_fake_seq: 0.698813, lossG_fake_img: 0.766211, lossG_overlap_fake: 0.000000, lossG_overlap_real: 0.006394, \n",
            "Epoch: 0/800, Batch: 29/99, lossD_fake_seq: 0.679227, lossD_real_seq: 0.684016, lossD_real_img: 0.653039, lossD_fake_img: 0.809449, lossG_fake_seq: 0.703750, lossG_fake_img: 0.738879, lossG_overlap_fake: 0.000000, lossG_overlap_real: 0.002095, \n",
            "Epoch: 0/800, Batch: 39/99, lossD_fake_seq: 0.728433, lossD_real_seq: 0.590945, lossD_real_img: 0.676380, lossD_fake_img: 0.751970, lossG_fake_seq: 0.780693, lossG_fake_img: 0.746127, lossG_overlap_fake: 0.000403, lossG_overlap_real: 0.002830, \n",
            "Epoch: 0/800, Batch: 49/99, lossD_fake_seq: 0.723345, lossD_real_seq: 0.538103, lossD_real_img: 0.701499, lossD_fake_img: 0.690113, lossG_fake_seq: 0.894112, lossG_fake_img: 0.662670, lossG_overlap_fake: 0.000038, lossG_overlap_real: 0.000454, \n",
            "Epoch: 0/800, Batch: 59/99, lossD_fake_seq: 0.753744, lossD_real_seq: 0.435263, lossD_real_img: 0.709848, lossD_fake_img: 0.697524, lossG_fake_seq: 1.180543, lossG_fake_img: 0.713271, lossG_overlap_fake: 0.003815, lossG_overlap_real: 0.003496, \n",
            "Epoch: 0/800, Batch: 69/99, lossD_fake_seq: 0.655281, lossD_real_seq: 0.563415, lossD_real_img: 0.684683, lossD_fake_img: 0.745129, lossG_fake_seq: 0.645327, lossG_fake_img: 0.733489, lossG_overlap_fake: 0.004031, lossG_overlap_real: 0.002488, \n",
            "Epoch: 0/800, Batch: 79/99, lossD_fake_seq: 0.513666, lossD_real_seq: 0.619717, lossD_real_img: 0.701979, lossD_fake_img: 0.749859, lossG_fake_seq: 0.669683, lossG_fake_img: 0.692021, lossG_overlap_fake: 0.000189, lossG_overlap_real: 0.002383, \n",
            "Epoch: 0/800, Batch: 89/99, lossD_fake_seq: 0.639066, lossD_real_seq: 0.742282, lossD_real_img: 0.755233, lossD_fake_img: 0.817073, lossG_fake_seq: 0.614587, lossG_fake_img: 0.896560, lossG_overlap_fake: 0.011373, lossG_overlap_real: 0.000996, \n",
            "sampling for testing data\n",
            "calculating FID\n",
            "/usr/local/lib/python3.10/dist-packages/torchvision/models/_utils.py:223: UserWarning: Arguments other than a weight enum or `None` for 'weights' are deprecated since 0.13 and may be removed in the future. The current behavior is equivalent to passing `weights=None`.\n",
            "  warnings.warn(msg)\n",
            "Downloading: \"https://github.com/mseitzer/pytorch-fid/releases/download/fid_weights/pt_inception-2015-12-05-6726825d.pth\" to /root/.cache/torch/hub/checkpoints/pt_inception-2015-12-05-6726825d.pth\n",
            "100% 91.2M/91.2M [00:02<00:00, 38.2MB/s]\n",
            "100% 47/47 [00:06<00:00,  7.77it/s]\n",
            "100% 100/100 [00:12<00:00,  7.96it/s]\n",
            "Traceback (most recent call last):\n",
            "  File \"/content/TextLogoLayout/train.py\", line 326, in <module>\n",
            "    main()\n",
            "  File \"/content/TextLogoLayout/train.py\", line 320, in main\n",
            "    train(opts)\n",
            "  File \"/content/TextLogoLayout/train.py\", line 253, in train\n",
            "    fid_value = calculate_fid_given_paths(paths=[path_fake, path_gt], batch_size=opts.batch_size, device=device, dims=2048, )\n",
            "  File \"/content/TextLogoLayout/pytorch_fid/fid_score.py\", line 248, in calculate_fid_given_paths\n",
            "    fid_value = calculate_frechet_distance(m1, s1, m2, s2)\n",
            "  File \"/content/TextLogoLayout/pytorch_fid/fid_score.py\", line 183, in calculate_frechet_distance\n",
            "    raise ValueError('Imaginary component {}'.format(m))\n",
            "ValueError: Imaginary component 2.895535130879611e+46\n"
          ]
        }
      ]
    },
    {
      "cell_type": "code",
      "source": [
        "cd /content/TextLogoLayout"
      ],
      "metadata": {
        "colab": {
          "base_uri": "https://localhost:8080/"
        },
        "id": "Au334FdcEA_G",
        "outputId": "2458b7ed-ba81-456b-ce48-2189bf8684d0"
      },
      "execution_count": 14,
      "outputs": [
        {
          "output_type": "stream",
          "name": "stdout",
          "text": [
            "/content/TextLogoLayout\n"
          ]
        }
      ]
    },
    {
      "cell_type": "code",
      "source": [
        "pwd\n"
      ],
      "metadata": {
        "id": "ht--Bql7m4S4",
        "colab": {
          "base_uri": "https://localhost:8080/",
          "height": 35
        },
        "outputId": "01904074-854a-4923-b839-1206662c49bd"
      },
      "execution_count": 17,
      "outputs": [
        {
          "output_type": "execute_result",
          "data": {
            "text/plain": [
              "'/content/TextLogoLayout'"
            ],
            "application/vnd.google.colaboratory.intrinsic+json": {
              "type": "string"
            }
          },
          "metadata": {},
          "execution_count": 17
        }
      ]
    },
    {
      "cell_type": "code",
      "source": [
        "!python test.py --experiment_name base_model --test_sample_times 10 --test_epoch 600"
      ],
      "metadata": {
        "colab": {
          "base_uri": "https://localhost:8080/"
        },
        "id": "Wo8-XN7HmwWJ",
        "outputId": "9510f185-1c5d-4148-d0ec-138b69ad480b"
      },
      "execution_count": 18,
      "outputs": [
        {
          "output_type": "stream",
          "name": "stdout",
          "text": [
            "Testing on experiment base_model...\n",
            "/usr/local/lib/python3.10/dist-packages/torch/utils/data/dataloader.py:558: UserWarning: This DataLoader will create 32 worker processes in total. Our suggested max number of worker in current system is 2, which is smaller than what this DataLoader is going to create. Please be aware that excessive worker creation might get DataLoader running slow or even freeze, lower the worker number to avoid potential slowness/freeze if necessary.\n",
            "  warnings.warn(_create_warning_msg(\n",
            "/usr/local/lib/python3.10/dist-packages/torchvision/models/_utils.py:208: UserWarning: The parameter 'pretrained' is deprecated since 0.13 and may be removed in the future, please use 'weights' instead.\n",
            "  warnings.warn(\n",
            "/usr/local/lib/python3.10/dist-packages/torchvision/models/_utils.py:223: UserWarning: Arguments other than a weight enum or `None` for 'weights' are deprecated since 0.13 and may be removed in the future. The current behavior is equivalent to passing `weights=VGG19_BN_Weights.IMAGENET1K_V1`. You can also use `weights=VGG19_BN_Weights.DEFAULT` to get the most up-to-date weights.\n",
            "  warnings.warn(msg)\n",
            "sampling for testing data\n",
            "Traceback (most recent call last):\n",
            "  File \"/content/TextLogoLayout/test.py\", line 124, in <module>\n",
            "    main()\n",
            "  File \"/content/TextLogoLayout/test.py\", line 121, in main\n",
            "    test(opts)\n",
            "  File \"/content/TextLogoLayout/test.py\", line 56, in test\n",
            "    imgs_list_test, _, _, _, batch_size_test_, _ = network_forward(data_test, modules, opts)\n",
            "  File \"/content/TextLogoLayout/test.py\", line 103, in network_forward\n",
            "    condition_features, condition_feat_last, text_len_, loss_rec = condition_encoder(imgs_glyph, embeds_char, embeds_word, text_len) # [max_seqlen, batch_size, hidden_size]\n",
            "  File \"/usr/local/lib/python3.10/dist-packages/torch/nn/modules/module.py\", line 1511, in _wrapped_call_impl\n",
            "    return self._call_impl(*args, **kwargs)\n",
            "  File \"/usr/local/lib/python3.10/dist-packages/torch/nn/modules/module.py\", line 1520, in _call_impl\n",
            "    return forward_call(*args, **kwargs)\n",
            "  File \"/usr/local/lib/python3.10/dist-packages/torch/nn/parallel/data_parallel.py\", line 183, in forward\n",
            "    return self.module(*inputs[0], **module_kwargs[0])\n",
            "  File \"/usr/local/lib/python3.10/dist-packages/torch/nn/modules/module.py\", line 1511, in _wrapped_call_impl\n",
            "    return self._call_impl(*args, **kwargs)\n",
            "  File \"/usr/local/lib/python3.10/dist-packages/torch/nn/modules/module.py\", line 1520, in _call_impl\n",
            "    return forward_call(*args, **kwargs)\n",
            "  File \"/content/TextLogoLayout/models/condition_encoder.py\", line 44, in forward\n",
            "    imgs_glyph_rc = self.img_decoder(imgs_feat)\n",
            "  File \"/usr/local/lib/python3.10/dist-packages/torch/nn/modules/module.py\", line 1511, in _wrapped_call_impl\n",
            "    return self._call_impl(*args, **kwargs)\n",
            "  File \"/usr/local/lib/python3.10/dist-packages/torch/nn/modules/module.py\", line 1520, in _call_impl\n",
            "    return forward_call(*args, **kwargs)\n",
            "  File \"/content/TextLogoLayout/models/img_decoder.py\", line 36, in forward\n",
            "    dec_out = self.decode(dec_input)\n",
            "  File \"/usr/local/lib/python3.10/dist-packages/torch/nn/modules/module.py\", line 1511, in _wrapped_call_impl\n",
            "    return self._call_impl(*args, **kwargs)\n",
            "  File \"/usr/local/lib/python3.10/dist-packages/torch/nn/modules/module.py\", line 1520, in _call_impl\n",
            "    return forward_call(*args, **kwargs)\n",
            "  File \"/usr/local/lib/python3.10/dist-packages/torch/nn/modules/container.py\", line 217, in forward\n",
            "    input = module(input)\n",
            "  File \"/usr/local/lib/python3.10/dist-packages/torch/nn/modules/module.py\", line 1511, in _wrapped_call_impl\n",
            "    return self._call_impl(*args, **kwargs)\n",
            "  File \"/usr/local/lib/python3.10/dist-packages/torch/nn/modules/module.py\", line 1520, in _call_impl\n",
            "    return forward_call(*args, **kwargs)\n",
            "  File \"/usr/local/lib/python3.10/dist-packages/torch/nn/modules/normalization.py\", line 201, in forward\n",
            "    return F.layer_norm(\n",
            "  File \"/usr/local/lib/python3.10/dist-packages/torch/nn/functional.py\", line 2546, in layer_norm\n",
            "    return torch.layer_norm(input, normalized_shape, weight, bias, eps, torch.backends.cudnn.enabled)\n",
            "torch.cuda.OutOfMemoryError: CUDA out of memory. Tried to allocate 160.00 MiB. GPU 0 has a total capacity of 14.75 GiB of which 67.06 MiB is free. Process 68485 has 14.68 GiB memory in use. Of the allocated memory 14.51 GiB is allocated by PyTorch, and 41.08 MiB is reserved by PyTorch but unallocated. If reserved but unallocated memory is large try setting PYTORCH_CUDA_ALLOC_CONF=expandable_segments:True to avoid fragmentation.  See documentation for Memory Management  (https://pytorch.org/docs/stable/notes/cuda.html#environment-variables)\n"
          ]
        }
      ]
    }
  ]
}